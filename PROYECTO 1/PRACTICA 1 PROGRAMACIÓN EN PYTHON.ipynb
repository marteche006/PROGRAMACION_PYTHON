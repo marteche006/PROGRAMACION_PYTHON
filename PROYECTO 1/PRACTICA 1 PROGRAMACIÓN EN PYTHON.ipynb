{
 "cells": [
  {
   "cell_type": "markdown",
   "metadata": {},
   "source": [
    "### Mario Arteche Miranda\n",
    "#### Programación en Python: Práctica 1."
   ]
  },
  {
   "cell_type": "code",
   "execution_count": 116,
   "metadata": {},
   "outputs": [],
   "source": [
    "import pandas as pd # cargamos pandas\n",
    "import numpy as np # cargamos numpy"
   ]
  },
  {
   "cell_type": "markdown",
   "metadata": {},
   "source": [
    "# Peso de los luchadores"
   ]
  },
  {
   "cell_type": "code",
   "execution_count": 122,
   "metadata": {},
   "outputs": [],
   "source": [
    "data_luchadores = pd.read_csv('./data/details.csv',sep=',') # Elaboramos un data frame llamado data_luchadores con el csv details."
   ]
  },
  {
   "cell_type": "markdown",
   "metadata": {},
   "source": [
    "En el dataframe luchadores se encuentran los datos asociados a los participantes en combates. En particular recoje el peso de los participantes expresado en libras."
   ]
  },
  {
   "cell_type": "markdown",
   "metadata": {},
   "source": [
    "a) ¿Cuántos valores NAN hay en la columna Weight?"
   ]
  },
  {
   "cell_type": "code",
   "execution_count": 123,
   "metadata": {},
   "outputs": [
    {
     "data": {
      "text/plain": [
       "75"
      ]
     },
     "execution_count": 123,
     "metadata": {},
     "output_type": "execute_result"
    }
   ],
   "source": [
    "NAN_luchadores=data_luchadores.Weight.isnull() # objeto con los valores nulos\n",
    "sum(NAN_luchadores) #suma de valores nulos"
   ]
  },
  {
   "cell_type": "markdown",
   "metadata": {},
   "source": [
    "b) Modifica el DataFrame luchadores. Sustituye los valores NaN de la variable Weight por el valor 0 lbs.."
   ]
  },
  {
   "cell_type": "code",
   "execution_count": 124,
   "metadata": {},
   "outputs": [],
   "source": [
    "data_luchadores.Weight = data_luchadores.Weight.fillna('0 lbs.') #cambiamos na por 0 lbs, con el comando fillna"
   ]
  },
  {
   "cell_type": "markdown",
   "metadata": {},
   "source": [
    "c) Modifica el DataFrame luchadores. Crea una nueva columna llamada Weight gr que represente el peso del luchador en gramos. (1 libra son 453.59 gramos)."
   ]
  },
  {
   "cell_type": "code",
   "execution_count": 125,
   "metadata": {},
   "outputs": [],
   "source": [
    "data_luchadores.Weight = data_luchadores.Weight.str.split(' ') #  dividimos los valores de Weight, en este caso por el espacio, que es como aparecen separados en la columna\n",
    "\n",
    "data_luchadores['Weight gr'] = data_luchadores.Weight.str[0].astype(int) # Creamos una la nueva columna con la posicion 1ª de Weight y lo\n",
    "                                                               # transformamos a numero entero (int) para poder multiplicarlo"
   ]
  },
  {
   "cell_type": "code",
   "execution_count": 127,
   "metadata": {},
   "outputs": [
    {
     "data": {
      "text/html": [
       "<div>\n",
       "<style scoped>\n",
       "    .dataframe tbody tr th:only-of-type {\n",
       "        vertical-align: middle;\n",
       "    }\n",
       "\n",
       "    .dataframe tbody tr th {\n",
       "        vertical-align: top;\n",
       "    }\n",
       "\n",
       "    .dataframe thead th {\n",
       "        text-align: right;\n",
       "    }\n",
       "</style>\n",
       "<table border=\"1\" class=\"dataframe\">\n",
       "  <thead>\n",
       "    <tr style=\"text-align: right;\">\n",
       "      <th></th>\n",
       "      <th>fighter_name</th>\n",
       "      <th>Weight</th>\n",
       "      <th>Height</th>\n",
       "      <th>Weight gr</th>\n",
       "    </tr>\n",
       "  </thead>\n",
       "  <tbody>\n",
       "    <tr>\n",
       "      <th>0</th>\n",
       "      <td>AJ Fonseca</td>\n",
       "      <td>[145, lbs.]</td>\n",
       "      <td>5' 4\"</td>\n",
       "      <td>65770.55</td>\n",
       "    </tr>\n",
       "    <tr>\n",
       "      <th>1</th>\n",
       "      <td>AJ Matthews</td>\n",
       "      <td>[185, lbs.]</td>\n",
       "      <td>5' 11\"</td>\n",
       "      <td>83914.15</td>\n",
       "    </tr>\n",
       "    <tr>\n",
       "      <th>2</th>\n",
       "      <td>AJ McKee</td>\n",
       "      <td>[145, lbs.]</td>\n",
       "      <td>5' 10\"</td>\n",
       "      <td>65770.55</td>\n",
       "    </tr>\n",
       "    <tr>\n",
       "      <th>3</th>\n",
       "      <td>AJ Siscoe</td>\n",
       "      <td>[135, lbs.]</td>\n",
       "      <td>5' 7\"</td>\n",
       "      <td>61234.65</td>\n",
       "    </tr>\n",
       "    <tr>\n",
       "      <th>4</th>\n",
       "      <td>Aalon Cruz</td>\n",
       "      <td>[145, lbs.]</td>\n",
       "      <td>6' 0\"</td>\n",
       "      <td>65770.55</td>\n",
       "    </tr>\n",
       "    <tr>\n",
       "      <th>5</th>\n",
       "      <td>Aaron Brink</td>\n",
       "      <td>[205, lbs.]</td>\n",
       "      <td>6' 3\"</td>\n",
       "      <td>92985.95</td>\n",
       "    </tr>\n",
       "  </tbody>\n",
       "</table>\n",
       "</div>"
      ],
      "text/plain": [
       "  fighter_name       Weight  Height  Weight gr\n",
       "0   AJ Fonseca  [145, lbs.]   5' 4\"   65770.55\n",
       "1  AJ Matthews  [185, lbs.]  5' 11\"   83914.15\n",
       "2     AJ McKee  [145, lbs.]  5' 10\"   65770.55\n",
       "3    AJ Siscoe  [135, lbs.]   5' 7\"   61234.65\n",
       "4   Aalon Cruz  [145, lbs.]   6' 0\"   65770.55\n",
       "5  Aaron Brink  [205, lbs.]   6' 3\"   92985.95"
      ]
     },
     "execution_count": 127,
     "metadata": {},
     "output_type": "execute_result"
    }
   ],
   "source": [
    "def pesogr(pesolbs):\n",
    "    return pesolbs * 453.59 # Creamos una funcion que va a multiplicar cada numero por 453.59\n",
    "\n",
    "data_luchadores['Weight gr'] = data_luchadores['Weight gr'].map(pesogr) # Aplicamos la funcion creada a nuestra nueva columna gracias a map\n",
    "data_luchadores.head(6) # Cargamos las primeras posiciones del dataframe para ver que se ha realizado el cambio"
   ]
  },
  {
   "cell_type": "markdown",
   "metadata": {},
   "source": [
    "d) Muestra un gráfico de frecuencias de la variable Weight gr. Discute la gráfica obtenida."
   ]
  },
  {
   "cell_type": "code",
   "execution_count": 128,
   "metadata": {},
   "outputs": [],
   "source": [
    "import numpy as np\n",
    "from matplotlib import pyplot as plt"
   ]
  },
  {
   "cell_type": "code",
   "execution_count": 129,
   "metadata": {},
   "outputs": [
    {
     "data": {
      "text/plain": [
       "Text(0, 0.5, 'Number of figthers')"
      ]
     },
     "execution_count": 129,
     "metadata": {},
     "output_type": "execute_result"
    },
    {
     "data": {
      "image/png": "[encoded data removed]",
      "text/plain": [
       "<Figure size 720x432 with 1 Axes>"
      ]
     },
     "metadata": {
      "needs_background": "light"
     },
     "output_type": "display_data"
    }
   ],
   "source": [
    "figura, ax1 = plt.subplots(1, figsize = (10,6))#definimos y dimensionamos el grafico\n",
    "plt.title('Fighters Weights in gr')#titulamos el grafico\n",
    "# Creamos un histograma para observar las frecuencias de de los datos obtenidos.                                              \n",
    "data_luchadores['Weight gr'].hist(color = \"orange\",\n",
    "                                  edgecolor = \"black\", \n",
    "                                  linewidth = 2)\n",
    "ax1.set_xlabel('Weight gr')\n",
    "ax1.set_ylabel('Number of figthers')\n",
    "#observamos como la mayor parte de los datos se encuentra entre las franjas de 5000 y 100000 gramos, con un total de casi 3000 luchadores en conjunto."
   ]
  },
  {
   "cell_type": "markdown",
   "metadata": {},
   "source": [
    "# Celebración de los combates"
   ]
  },
  {
   "cell_type": "code",
   "execution_count": 130,
   "metadata": {},
   "outputs": [],
   "source": [
    "import pandas as pd # cargamos pandascon la abreviatura pd como en clase\n",
    "import numpy as np # cargamos numpy con la abreviatura np como en clase"
   ]
  },
  {
   "cell_type": "code",
   "execution_count": 131,
   "metadata": {},
   "outputs": [],
   "source": [
    "combates = pd.read_csv('./data/dataset.csv', sep =';') # data frame que contiene la base de datos que vamos a emplear->combates"
   ]
  },
  {
   "cell_type": "markdown",
   "metadata": {},
   "source": [
    "\n",
    "La columna location del dataframe combates recoge información del lugar donde se celebran los combates. Este campo recoge la ciudad, el estado y el país."
   ]
  },
  {
   "cell_type": "markdown",
   "metadata": {},
   "source": [
    "a) Modifica el DataFrame combates. Crear una nueva columna denominada Country con información únicamente del nombre del país."
   ]
  },
  {
   "cell_type": "code",
   "execution_count": 132,
   "metadata": {},
   "outputs": [
    {
     "data": {
      "text/html": [
       "<div>\n",
       "<style scoped>\n",
       "    .dataframe tbody tr th:only-of-type {\n",
       "        vertical-align: middle;\n",
       "    }\n",
       "\n",
       "    .dataframe tbody tr th {\n",
       "        vertical-align: top;\n",
       "    }\n",
       "\n",
       "    .dataframe thead th {\n",
       "        text-align: right;\n",
       "    }\n",
       "</style>\n",
       "<table border=\"1\" class=\"dataframe\">\n",
       "  <thead>\n",
       "    <tr style=\"text-align: right;\">\n",
       "      <th></th>\n",
       "      <th>R_fighter</th>\n",
       "      <th>B_fighter</th>\n",
       "      <th>win_by</th>\n",
       "      <th>last_round</th>\n",
       "      <th>last_round_time</th>\n",
       "      <th>Format</th>\n",
       "      <th>Referee</th>\n",
       "      <th>date</th>\n",
       "      <th>location</th>\n",
       "      <th>Winner</th>\n",
       "      <th>weight_class</th>\n",
       "      <th>title_bout</th>\n",
       "      <th>Country</th>\n",
       "    </tr>\n",
       "  </thead>\n",
       "  <tbody>\n",
       "    <tr>\n",
       "      <th>0</th>\n",
       "      <td>Henry Cejudo</td>\n",
       "      <td>Marlon Moraes</td>\n",
       "      <td>KO/TKO</td>\n",
       "      <td>3</td>\n",
       "      <td>4:51</td>\n",
       "      <td>5 Rnd (5-5-5-5-5)</td>\n",
       "      <td>Marc Goddard</td>\n",
       "      <td>June 08, 2019</td>\n",
       "      <td>[Chicago,  Illinois,  USA]</td>\n",
       "      <td>Henry Cejudo</td>\n",
       "      <td>Bantamweight</td>\n",
       "      <td>True</td>\n",
       "      <td>USA</td>\n",
       "    </tr>\n",
       "    <tr>\n",
       "      <th>1</th>\n",
       "      <td>Valentina Shevchenko</td>\n",
       "      <td>Jessica Eye</td>\n",
       "      <td>KO/TKO</td>\n",
       "      <td>2</td>\n",
       "      <td>0:26</td>\n",
       "      <td>5 Rnd (5-5-5-5-5)</td>\n",
       "      <td>Robert Madrigal</td>\n",
       "      <td>June 08, 2019</td>\n",
       "      <td>[Chicago,  Illinois,  USA]</td>\n",
       "      <td>Valentina Shevchenko</td>\n",
       "      <td>Women's Flyweight</td>\n",
       "      <td>True</td>\n",
       "      <td>USA</td>\n",
       "    </tr>\n",
       "    <tr>\n",
       "      <th>2</th>\n",
       "      <td>Tony Ferguson</td>\n",
       "      <td>Donald Cerrone</td>\n",
       "      <td>TKO - Doctor's Stoppage</td>\n",
       "      <td>2</td>\n",
       "      <td>5:00</td>\n",
       "      <td>3 Rnd (5-5-5)</td>\n",
       "      <td>Dan Miragliotta</td>\n",
       "      <td>June 08, 2019</td>\n",
       "      <td>[Chicago,  Illinois,  USA]</td>\n",
       "      <td>Tony Ferguson</td>\n",
       "      <td>Lightweight</td>\n",
       "      <td>False</td>\n",
       "      <td>USA</td>\n",
       "    </tr>\n",
       "  </tbody>\n",
       "</table>\n",
       "</div>"
      ],
      "text/plain": [
       "              R_fighter       B_fighter                   win_by  last_round  \\\n",
       "0          Henry Cejudo   Marlon Moraes                   KO/TKO           3   \n",
       "1  Valentina Shevchenko     Jessica Eye                   KO/TKO           2   \n",
       "2         Tony Ferguson  Donald Cerrone  TKO - Doctor's Stoppage           2   \n",
       "\n",
       "  last_round_time             Format          Referee           date  \\\n",
       "0            4:51  5 Rnd (5-5-5-5-5)     Marc Goddard  June 08, 2019   \n",
       "1            0:26  5 Rnd (5-5-5-5-5)  Robert Madrigal  June 08, 2019   \n",
       "2            5:00      3 Rnd (5-5-5)  Dan Miragliotta  June 08, 2019   \n",
       "\n",
       "                     location                Winner       weight_class  \\\n",
       "0  [Chicago,  Illinois,  USA]          Henry Cejudo       Bantamweight   \n",
       "1  [Chicago,  Illinois,  USA]  Valentina Shevchenko  Women's Flyweight   \n",
       "2  [Chicago,  Illinois,  USA]         Tony Ferguson        Lightweight   \n",
       "\n",
       "   title_bout Country  \n",
       "0        True     USA  \n",
       "1        True     USA  \n",
       "2       False     USA  "
      ]
     },
     "execution_count": 132,
     "metadata": {},
     "output_type": "execute_result"
    }
   ],
   "source": [
    "combates.location = combates.location.str.split(',') # partimos location por la ,\n",
    "combates['Country'] = combates.location.str[-1] # Nueva columna con nombre Country con los datos de la ultima posicion\n",
    "combates.head(3) #vemos las 3 primeras filas para ver que funciona correctamente"
   ]
  },
  {
   "cell_type": "markdown",
   "metadata": {},
   "source": [
    "b) Muestra un listado de paises distintos donde se han celebrado combates."
   ]
  },
  {
   "cell_type": "code",
   "execution_count": 133,
   "metadata": {},
   "outputs": [
    {
     "data": {
      "text/plain": [
       "array([' USA', ' Sweden', ' Brazil', ' Canada', ' Russia',\n",
       "       ' United Kingdom', ' Czech Republic', ' Australia', ' China',\n",
       "       ' Argentina', ' Germany', ' Singapore', ' Chile', ' Poland',\n",
       "       ' Japan', ' Netherlands', ' Mexico', ' New Zealand', ' Croatia',\n",
       "       ' South Korea', ' Ireland', ' Philippines',\n",
       "       ' United Arab Emirates', ' Puerto Rico'], dtype=object)"
      ]
     },
     "execution_count": 133,
     "metadata": {},
     "output_type": "execute_result"
    }
   ],
   "source": [
    "combates.Country.unique() # mostramos con unique los valores unicos de los paises\n",
    "#como he corregido el fallo que tenia-->vemos que hay paises con na, por que lo habiamos referenciado como el valor 2 de la serie y habria que poner el -1"
   ]
  },
  {
   "cell_type": "markdown",
   "metadata": {},
   "source": [
    "c) Calcula el número de combates celebrados por fecha y país."
   ]
  },
  {
   "cell_type": "code",
   "execution_count": 134,
   "metadata": {},
   "outputs": [
    {
     "data": {
      "text/plain": [
       "date                Country        \n",
       "April 01, 2009       USA               11\n",
       "April 02, 2004       USA                8\n",
       "April 02, 2008       USA               12\n",
       "April 04, 2015       USA               10\n",
       "April 05, 2007       USA                9\n",
       "                                       ..\n",
       "September 26, 2015   Japan             10\n",
       "September 27, 2002   USA                8\n",
       "September 27, 2014   USA               11\n",
       "September 28, 2001   USA                8\n",
       "September 29, 2012   United Kingdom    11\n",
       "Name: date, Length: 481, dtype: int64"
      ]
     },
     "execution_count": 134,
     "metadata": {},
     "output_type": "execute_result"
    }
   ],
   "source": [
    "combates_pais_fecha=combates.groupby(['date','Country']) # data frame que agrupa por fecha y pais\n",
    "combates_pais_fecha.date.count() #cuenta de los valores por fecha y pais utilizando el data frame que hemos creado anteriormenmte"
   ]
  },
  {
   "cell_type": "markdown",
   "metadata": {},
   "source": [
    "## IMPORTANTE:EXPERIMENTO CON PIVOT_TABLE\n",
    "### ME FALTA AVERIGUAR COMO INCORPORAR EL ELEMENTO VALOR"
   ]
  },
  {
   "cell_type": "markdown",
   "metadata": {},
   "source": [
    "## Calzoncillo rojo"
   ]
  },
  {
   "cell_type": "markdown",
   "metadata": {},
   "source": [
    "Deseamos conocer en cuántos combates ha sido victorioso el luchador de calzoncillo rojo."
   ]
  },
  {
   "cell_type": "code",
   "execution_count": 135,
   "metadata": {},
   "outputs": [
    {
     "data": {
      "text/plain": [
       "0        True\n",
       "1        True\n",
       "2        True\n",
       "3       False\n",
       "4       False\n",
       "        ...  \n",
       "5139     True\n",
       "5140     True\n",
       "5141     True\n",
       "5142     True\n",
       "5143     True\n",
       "Length: 5144, dtype: bool"
      ]
     },
     "execution_count": 135,
     "metadata": {},
     "output_type": "execute_result"
    }
   ],
   "source": [
    "luchador_rojo=(combates.R_fighter == combates.Winner) # condicion (booleano) por la cual el luchador rojo debe ser ganador\n",
    "luchador_rojo #vemos que lo ejecuta como queriamos"
   ]
  },
  {
   "cell_type": "code",
   "execution_count": 138,
   "metadata": {},
   "outputs": [
    {
     "data": {
      "text/plain": [
       "3470"
      ]
     },
     "execution_count": 138,
     "metadata": {},
     "output_type": "execute_result"
    }
   ],
   "source": [
    "sum(luchador_rojo) #suma de las veces que se cumple esa condicion"
   ]
  },
  {
   "cell_type": "code",
   "execution_count": 139,
   "metadata": {},
   "outputs": [
    {
     "data": {
      "text/html": [
       "<div>\n",
       "<style scoped>\n",
       "    .dataframe tbody tr th:only-of-type {\n",
       "        vertical-align: middle;\n",
       "    }\n",
       "\n",
       "    .dataframe tbody tr th {\n",
       "        vertical-align: top;\n",
       "    }\n",
       "\n",
       "    .dataframe thead th {\n",
       "        text-align: right;\n",
       "    }\n",
       "</style>\n",
       "<table border=\"1\" class=\"dataframe\">\n",
       "  <thead>\n",
       "    <tr style=\"text-align: right;\">\n",
       "      <th></th>\n",
       "      <th>R_fighter</th>\n",
       "      <th>B_fighter</th>\n",
       "      <th>win_by</th>\n",
       "      <th>last_round</th>\n",
       "      <th>last_round_time</th>\n",
       "      <th>Format</th>\n",
       "      <th>Referee</th>\n",
       "      <th>date</th>\n",
       "      <th>location</th>\n",
       "      <th>Winner</th>\n",
       "      <th>weight_class</th>\n",
       "      <th>title_bout</th>\n",
       "      <th>Country</th>\n",
       "      <th>Year</th>\n",
       "    </tr>\n",
       "  </thead>\n",
       "  <tbody>\n",
       "    <tr>\n",
       "      <th>0</th>\n",
       "      <td>Henry Cejudo</td>\n",
       "      <td>Marlon Moraes</td>\n",
       "      <td>KO/TKO</td>\n",
       "      <td>3</td>\n",
       "      <td>4:51</td>\n",
       "      <td>5 Rnd (5-5-5-5-5)</td>\n",
       "      <td>Marc Goddard</td>\n",
       "      <td>June 08, 2019</td>\n",
       "      <td>[Chicago,  Illinois,  USA]</td>\n",
       "      <td>Henry Cejudo</td>\n",
       "      <td>Bantamweight</td>\n",
       "      <td>True</td>\n",
       "      <td>USA</td>\n",
       "      <td>2019</td>\n",
       "    </tr>\n",
       "    <tr>\n",
       "      <th>1</th>\n",
       "      <td>Valentina Shevchenko</td>\n",
       "      <td>Jessica Eye</td>\n",
       "      <td>KO/TKO</td>\n",
       "      <td>2</td>\n",
       "      <td>0:26</td>\n",
       "      <td>5 Rnd (5-5-5-5-5)</td>\n",
       "      <td>Robert Madrigal</td>\n",
       "      <td>June 08, 2019</td>\n",
       "      <td>[Chicago,  Illinois,  USA]</td>\n",
       "      <td>Valentina Shevchenko</td>\n",
       "      <td>Women's Flyweight</td>\n",
       "      <td>True</td>\n",
       "      <td>USA</td>\n",
       "      <td>2019</td>\n",
       "    </tr>\n",
       "  </tbody>\n",
       "</table>\n",
       "</div>"
      ],
      "text/plain": [
       "              R_fighter      B_fighter  win_by  last_round last_round_time  \\\n",
       "0          Henry Cejudo  Marlon Moraes  KO/TKO           3            4:51   \n",
       "1  Valentina Shevchenko    Jessica Eye  KO/TKO           2            0:26   \n",
       "\n",
       "              Format          Referee           date  \\\n",
       "0  5 Rnd (5-5-5-5-5)     Marc Goddard  June 08, 2019   \n",
       "1  5 Rnd (5-5-5-5-5)  Robert Madrigal  June 08, 2019   \n",
       "\n",
       "                     location                Winner       weight_class  \\\n",
       "0  [Chicago,  Illinois,  USA]          Henry Cejudo       Bantamweight   \n",
       "1  [Chicago,  Illinois,  USA]  Valentina Shevchenko  Women's Flyweight   \n",
       "\n",
       "   title_bout Country   Year  \n",
       "0        True     USA   2019  \n",
       "1        True     USA   2019  "
      ]
     },
     "execution_count": 139,
     "metadata": {},
     "output_type": "execute_result"
    }
   ],
   "source": [
    "#creamos una columna con el año unicamente para ser mas agiles\n",
    "combates.año = combates.date.str.split(',')\n",
    "combates['Year'] = combates.año.str[1]\n",
    "combates.head(2)"
   ]
  },
  {
   "cell_type": "markdown",
   "metadata": {},
   "source": [
    "## Ganadores !"
   ]
  },
  {
   "cell_type": "markdown",
   "metadata": {},
   "source": [
    "a) Genera un listado de luchadores que hayan ganado por KO/TKO en más de 8 combates."
   ]
  },
  {
   "cell_type": "code",
   "execution_count": 140,
   "metadata": {},
   "outputs": [
    {
     "data": {
      "text/plain": [
       "Thiago Santos        11\n",
       "Anderson Silva       11\n",
       "Vitor Belfort        11\n",
       "Anthony Johnson      11\n",
       "Junior Dos Santos    10\n",
       "Michael Bisping      10\n",
       "Cain Velasquez       10\n",
       "Donald Cerrone       10\n",
       "Matt Brown           10\n",
       "Derrick Lewis        10\n",
       "Andrei Arlovski       9\n",
       "Chuck Liddell         9\n",
       "Name: KO, dtype: int64"
      ]
     },
     "execution_count": 140,
     "metadata": {},
     "output_type": "execute_result"
    }
   ],
   "source": [
    "combates['KO'] = combates.Winner[combates['win_by'] == 'KO/TKO'] #columna que contiene a los ganadores por KO/TKO\n",
    "cuenta_ko = combates.KO.value_counts() #parametro que cuenta los combates ganados por KO\n",
    "cuenta_ko[cuenta_ko>8] #condicion que debe cumplir, en este caso >8"
   ]
  },
  {
   "cell_type": "code",
   "execution_count": 141,
   "metadata": {
    "scrolled": true
   },
   "outputs": [
    {
     "data": {
      "text/html": [
       "<div>\n",
       "<style scoped>\n",
       "    .dataframe tbody tr th:only-of-type {\n",
       "        vertical-align: middle;\n",
       "    }\n",
       "\n",
       "    .dataframe tbody tr th {\n",
       "        vertical-align: top;\n",
       "    }\n",
       "\n",
       "    .dataframe thead th {\n",
       "        text-align: right;\n",
       "    }\n",
       "</style>\n",
       "<table border=\"1\" class=\"dataframe\">\n",
       "  <thead>\n",
       "    <tr style=\"text-align: right;\">\n",
       "      <th></th>\n",
       "      <th>R_fighter</th>\n",
       "      <th>B_fighter</th>\n",
       "      <th>win_by</th>\n",
       "      <th>last_round</th>\n",
       "      <th>last_round_time</th>\n",
       "      <th>Format</th>\n",
       "      <th>Referee</th>\n",
       "      <th>date</th>\n",
       "      <th>location</th>\n",
       "      <th>Winner</th>\n",
       "      <th>weight_class</th>\n",
       "      <th>title_bout</th>\n",
       "      <th>Country</th>\n",
       "      <th>Year</th>\n",
       "      <th>KO</th>\n",
       "    </tr>\n",
       "  </thead>\n",
       "  <tbody>\n",
       "    <tr>\n",
       "      <th>0</th>\n",
       "      <td>Henry Cejudo</td>\n",
       "      <td>Marlon Moraes</td>\n",
       "      <td>KO/TKO</td>\n",
       "      <td>3</td>\n",
       "      <td>4:51</td>\n",
       "      <td>5 Rnd (5-5-5-5-5)</td>\n",
       "      <td>Marc Goddard</td>\n",
       "      <td>June 08, 2019</td>\n",
       "      <td>[Chicago,  Illinois,  USA]</td>\n",
       "      <td>Henry Cejudo</td>\n",
       "      <td>Bantamweight</td>\n",
       "      <td>True</td>\n",
       "      <td>USA</td>\n",
       "      <td>2019</td>\n",
       "      <td>Henry Cejudo</td>\n",
       "    </tr>\n",
       "  </tbody>\n",
       "</table>\n",
       "</div>"
      ],
      "text/plain": [
       "      R_fighter      B_fighter  win_by  last_round last_round_time  \\\n",
       "0  Henry Cejudo  Marlon Moraes  KO/TKO           3            4:51   \n",
       "\n",
       "              Format       Referee           date                    location  \\\n",
       "0  5 Rnd (5-5-5-5-5)  Marc Goddard  June 08, 2019  [Chicago,  Illinois,  USA]   \n",
       "\n",
       "         Winner  weight_class  title_bout Country   Year            KO  \n",
       "0  Henry Cejudo  Bantamweight        True     USA   2019  Henry Cejudo  "
      ]
     },
     "execution_count": 141,
     "metadata": {},
     "output_type": "execute_result"
    }
   ],
   "source": [
    "combates.head(1) #vemos como la columna KO se ha añadido correctamente"
   ]
  },
  {
   "cell_type": "markdown",
   "metadata": {},
   "source": [
    "b) (Opcional) Genera un gráfico que muestre el número de combates ganado por KO/TKO por cada uno de los países. Discute el resultado obtenido."
   ]
  },
  {
   "cell_type": "code",
   "execution_count": 142,
   "metadata": {},
   "outputs": [],
   "source": [
    "import matplotlib.pyplot as plt\n",
    "%matplotlib inline"
   ]
  },
  {
   "cell_type": "code",
   "execution_count": 143,
   "metadata": {
    "scrolled": false
   },
   "outputs": [
    {
     "data": {
      "text/plain": [
       "Text(0, 0.5, 'COUNTRY')"
      ]
     },
     "execution_count": 143,
     "metadata": {},
     "output_type": "execute_result"
    },
    {
     "data": {
      "image/png": "[encoded data removed]",
      "text/plain": [
       "<Figure size 720x432 with 1 Axes>"
      ]
     },
     "metadata": {
      "needs_background": "light"
     },
     "output_type": "display_data"
    }
   ],
   "source": [
    "figura, ax1 = plt.subplots(1, figsize = (10,6)) #dimensiones del grafico\n",
    "combates.groupby(['Country']).KO.count().plot(kind = 'barh', #lo representamos en un grafico de barras horizontales\n",
    "                                              title='Winners by KO', #titulo principal del grafico\n",
    "                                              color = \"orange\", #relleno de las columnas\n",
    "                                              edgecolor = \"black\", #border de las columnas\n",
    "                                              linewidth = 2) #anchura del borde\n",
    "ax1.set_xlabel('KO') #titulo eje x\n",
    "ax1.set_ylabel('COUNTRY') #titulo eje y"
   ]
  },
  {
   "cell_type": "markdown",
   "metadata": {},
   "source": [
    "## Análisis Categoría"
   ]
  },
  {
   "cell_type": "markdown",
   "metadata": {},
   "source": [
    "a) Muestra un listado ordenado por número de combates para cada categoría"
   ]
  },
  {
   "cell_type": "code",
   "execution_count": 144,
   "metadata": {},
   "outputs": [
    {
     "data": {
      "text/plain": [
       "weight_class\n",
       "Lightweight              989\n",
       "Welterweight             969\n",
       "Middleweight             725\n",
       "Heavyweight              507\n",
       "Light Heavyweight        502\n",
       "Featherweight            442\n",
       "Bantamweight             379\n",
       "Flyweight                187\n",
       "Women's Strawweight      143\n",
       "Women's Bantamweight     111\n",
       "Open Weight               92\n",
       "Women's Flyweight         50\n",
       "Catch Weight              38\n",
       "Women's Featherweight     10\n",
       "Name: date, dtype: int64"
      ]
     },
     "execution_count": 144,
     "metadata": {},
     "output_type": "execute_result"
    }
   ],
   "source": [
    "combates_categoria = combates.groupby(['weight_class']).date.count() #agrupamos por tipo de peso de los luchadores\n",
    "combates_categoria.sort_values(ascending = False)#los ordenamos de manera descendente"
   ]
  },
  {
   "cell_type": "markdown",
   "metadata": {},
   "source": [
    "b) (Opcional) Muestra gráficamente el número de combates por categoría. Discute los resultados obtenidos."
   ]
  },
  {
   "cell_type": "code",
   "execution_count": 145,
   "metadata": {},
   "outputs": [
    {
     "data": {
      "text/plain": [
       "Text(0, 0.5, 'Category')"
      ]
     },
     "execution_count": 145,
     "metadata": {},
     "output_type": "execute_result"
    },
    {
     "data": {
      "image/png": "[encoded data removed]",
      "text/plain": [
       "<Figure size 720x432 with 1 Axes>"
      ]
     },
     "metadata": {
      "needs_background": "light"
     },
     "output_type": "display_data"
    }
   ],
   "source": [
    "figura, ax1 = plt.subplots(1, figsize = (10,6)) #los mismos comentarios que en el grafico anterior\n",
    "combates.groupby(['weight_class']).date.count().plot(kind = 'bar',\n",
    "                                              title='Fights_Category',\n",
    "                                              color = \"orange\", \n",
    "                                              edgecolor = \"black\", \n",
    "                                              linewidth = 2)\n",
    "ax1.set_xlabel('Category')\n",
    "ax1.set_ylabel('Fights')"
   ]
  },
  {
   "cell_type": "markdown",
   "metadata": {},
   "source": [
    "## Luchadores con mas victorias"
   ]
  },
  {
   "cell_type": "markdown",
   "metadata": {},
   "source": [
    "Nos interesa conocer el luchador que ha participado en más combates. Ten en cuenta que cada luchador puede participar con calzoncillo Rojo(R) o Azul(B)."
   ]
  },
  {
   "cell_type": "code",
   "execution_count": 146,
   "metadata": {},
   "outputs": [
    {
     "data": {
      "text/plain": [
       "Donald Cerrone    32\n",
       "Jim Miller        32\n",
       "dtype: int64"
      ]
     },
     "execution_count": 146,
     "metadata": {},
     "output_type": "execute_result"
    }
   ],
   "source": [
    "luchador_combates = pd.concat ([combates.R_fighter, #concatenamos ambas columnas y disponemos de todos los datos en una sola\n",
    "                                combates.B_fighter])\n",
    "cuenta_peleas=luchador_combates.value_counts()\n",
    "cuenta_peleas[cuenta_peleas>31] #condicion "
   ]
  },
  {
   "cell_type": "markdown",
   "metadata": {},
   "source": [
    "## Completar"
   ]
  },
  {
   "cell_type": "markdown",
   "metadata": {},
   "source": [
    "Nos interesa construir un dataframe que reuna la información de los combates y los pesos de cada uno de los luchadores. Para ello, añade las columnas R_weigth y B_weigth al dataframe de combates. R_weigth representa el peso del luchador rojo y B_weigth representa el peso del jugador azul."
   ]
  },
  {
   "cell_type": "markdown",
   "metadata": {},
   "source": [
    "## Top Luchadores"
   ]
  },
  {
   "cell_type": "markdown",
   "metadata": {},
   "source": [
    "a) Listado de luchadores (sin repetición) que hayan particidado en más de 17 combates en la categoría Lightweight."
   ]
  },
  {
   "cell_type": "code",
   "execution_count": 147,
   "metadata": {},
   "outputs": [
    {
     "data": {
      "text/plain": [
       "Jim Miller          31\n",
       "Gleison Tibau       27\n",
       "Joe Lauzon          26\n",
       "Ross Pearson        23\n",
       "Donald Cerrone      22\n",
       "Rafael Dos Anjos    21\n",
       "Edson Barboza       21\n",
       "Clay Guida          20\n",
       "Melvin Guillard     20\n",
       "Evan Dunham         20\n",
       "Yves Edwards        20\n",
       "Sam Stout           19\n",
       "dtype: int64"
      ]
     },
     "execution_count": 147,
     "metadata": {},
     "output_type": "execute_result"
    }
   ],
   "source": [
    "light_weight = combates[combates['weight_class'] == 'Lightweight'] #solo aquellos lightweight\n",
    "luchador_light=pd.concat([light_weight.R_fighter, #concatenamos en una columna\n",
    "                         light_weight.B_fighter])\n",
    "cuenta_Peleas=luchador_light.value_counts(ascending = False)\n",
    "cuenta_Peleas[cuenta_Peleas>17] #condicion"
   ]
  },
  {
   "cell_type": "markdown",
   "metadata": {},
   "source": [
    "b) Listado de luchadores que han ganado combates y han conseguido el titulo (title bout)"
   ]
  },
  {
   "cell_type": "code",
   "execution_count": 148,
   "metadata": {},
   "outputs": [
    {
     "data": {
      "text/plain": [
       "0             Henry Cejudo\n",
       "1     Valentina Shevchenko\n",
       "38         Jessica Andrade\n",
       "86          Dustin Poirier\n",
       "87         Israel Adesanya\n",
       "Name: Winner, dtype: object"
      ]
     },
     "execution_count": 148,
     "metadata": {},
     "output_type": "execute_result"
    }
   ],
   "source": [
    "luchadores_ganadores_titulo = combates[combates['title_bout'] == True].Winner\n",
    "luchadores_ganadores_titulo.head(5)"
   ]
  },
  {
   "cell_type": "markdown",
   "metadata": {},
   "source": [
    "## Años"
   ]
  },
  {
   "cell_type": "markdown",
   "metadata": {},
   "source": [
    "Muestra los datos de los combates ordenados por año y país de forma descendente."
   ]
  },
  {
   "cell_type": "code",
   "execution_count": 149,
   "metadata": {},
   "outputs": [
    {
     "data": {
      "text/html": [
       "<div>\n",
       "<style scoped>\n",
       "    .dataframe tbody tr th:only-of-type {\n",
       "        vertical-align: middle;\n",
       "    }\n",
       "\n",
       "    .dataframe tbody tr th {\n",
       "        vertical-align: top;\n",
       "    }\n",
       "\n",
       "    .dataframe thead th {\n",
       "        text-align: right;\n",
       "    }\n",
       "</style>\n",
       "<table border=\"1\" class=\"dataframe\">\n",
       "  <thead>\n",
       "    <tr style=\"text-align: right;\">\n",
       "      <th></th>\n",
       "      <th>R_fighter</th>\n",
       "      <th>B_fighter</th>\n",
       "      <th>win_by</th>\n",
       "      <th>last_round</th>\n",
       "      <th>last_round_time</th>\n",
       "      <th>Format</th>\n",
       "      <th>Referee</th>\n",
       "      <th>date</th>\n",
       "      <th>location</th>\n",
       "      <th>Winner</th>\n",
       "      <th>weight_class</th>\n",
       "      <th>title_bout</th>\n",
       "      <th>Country</th>\n",
       "      <th>Year</th>\n",
       "      <th>KO</th>\n",
       "    </tr>\n",
       "  </thead>\n",
       "  <tbody>\n",
       "    <tr>\n",
       "      <th>0</th>\n",
       "      <td>Henry Cejudo</td>\n",
       "      <td>Marlon Moraes</td>\n",
       "      <td>KO/TKO</td>\n",
       "      <td>3</td>\n",
       "      <td>4:51</td>\n",
       "      <td>5 Rnd (5-5-5-5-5)</td>\n",
       "      <td>Marc Goddard</td>\n",
       "      <td>June 08, 2019</td>\n",
       "      <td>[Chicago,  Illinois,  USA]</td>\n",
       "      <td>Henry Cejudo</td>\n",
       "      <td>Bantamweight</td>\n",
       "      <td>True</td>\n",
       "      <td>USA</td>\n",
       "      <td>2019</td>\n",
       "      <td>Henry Cejudo</td>\n",
       "    </tr>\n",
       "    <tr>\n",
       "      <th>1</th>\n",
       "      <td>Valentina Shevchenko</td>\n",
       "      <td>Jessica Eye</td>\n",
       "      <td>KO/TKO</td>\n",
       "      <td>2</td>\n",
       "      <td>0:26</td>\n",
       "      <td>5 Rnd (5-5-5-5-5)</td>\n",
       "      <td>Robert Madrigal</td>\n",
       "      <td>June 08, 2019</td>\n",
       "      <td>[Chicago,  Illinois,  USA]</td>\n",
       "      <td>Valentina Shevchenko</td>\n",
       "      <td>Women's Flyweight</td>\n",
       "      <td>True</td>\n",
       "      <td>USA</td>\n",
       "      <td>2019</td>\n",
       "      <td>Valentina Shevchenko</td>\n",
       "    </tr>\n",
       "  </tbody>\n",
       "</table>\n",
       "</div>"
      ],
      "text/plain": [
       "              R_fighter      B_fighter  win_by  last_round last_round_time  \\\n",
       "0          Henry Cejudo  Marlon Moraes  KO/TKO           3            4:51   \n",
       "1  Valentina Shevchenko    Jessica Eye  KO/TKO           2            0:26   \n",
       "\n",
       "              Format          Referee           date  \\\n",
       "0  5 Rnd (5-5-5-5-5)     Marc Goddard  June 08, 2019   \n",
       "1  5 Rnd (5-5-5-5-5)  Robert Madrigal  June 08, 2019   \n",
       "\n",
       "                     location                Winner       weight_class  \\\n",
       "0  [Chicago,  Illinois,  USA]          Henry Cejudo       Bantamweight   \n",
       "1  [Chicago,  Illinois,  USA]  Valentina Shevchenko  Women's Flyweight   \n",
       "\n",
       "   title_bout Country   Year                    KO  \n",
       "0        True     USA   2019          Henry Cejudo  \n",
       "1        True     USA   2019  Valentina Shevchenko  "
      ]
     },
     "execution_count": 149,
     "metadata": {},
     "output_type": "execute_result"
    }
   ],
   "source": [
    "combates.head(2)#para ver que columnas disponemos y poder actuar correctamente"
   ]
  },
  {
   "cell_type": "code",
   "execution_count": 150,
   "metadata": {},
   "outputs": [
    {
     "data": {
      "text/html": [
       "<div>\n",
       "<style scoped>\n",
       "    .dataframe tbody tr th:only-of-type {\n",
       "        vertical-align: middle;\n",
       "    }\n",
       "\n",
       "    .dataframe tbody tr th {\n",
       "        vertical-align: top;\n",
       "    }\n",
       "\n",
       "    .dataframe thead th {\n",
       "        text-align: right;\n",
       "    }\n",
       "</style>\n",
       "<table border=\"1\" class=\"dataframe\">\n",
       "  <thead>\n",
       "    <tr style=\"text-align: right;\">\n",
       "      <th></th>\n",
       "      <th>R_fighter</th>\n",
       "      <th>B_fighter</th>\n",
       "      <th>win_by</th>\n",
       "      <th>last_round</th>\n",
       "      <th>last_round_time</th>\n",
       "      <th>Format</th>\n",
       "      <th>Referee</th>\n",
       "      <th>date</th>\n",
       "      <th>location</th>\n",
       "      <th>Winner</th>\n",
       "      <th>weight_class</th>\n",
       "      <th>title_bout</th>\n",
       "      <th>Country</th>\n",
       "      <th>Year</th>\n",
       "      <th>KO</th>\n",
       "    </tr>\n",
       "  </thead>\n",
       "  <tbody>\n",
       "    <tr>\n",
       "      <th>124</th>\n",
       "      <td>Darren Till</td>\n",
       "      <td>Jorge Masvidal</td>\n",
       "      <td>KO/TKO</td>\n",
       "      <td>2</td>\n",
       "      <td>3:05</td>\n",
       "      <td>5 Rnd (5-5-5-5-5)</td>\n",
       "      <td>Marc Goddard</td>\n",
       "      <td>March 16, 2019</td>\n",
       "      <td>[London,  England,  United Kingdom]</td>\n",
       "      <td>Jorge Masvidal</td>\n",
       "      <td>Welterweight</td>\n",
       "      <td>False</td>\n",
       "      <td>United Kingdom</td>\n",
       "      <td>2019</td>\n",
       "      <td>Jorge Masvidal</td>\n",
       "    </tr>\n",
       "    <tr>\n",
       "      <th>125</th>\n",
       "      <td>Leon Edwards</td>\n",
       "      <td>Gunnar Nelson</td>\n",
       "      <td>Decision - Split</td>\n",
       "      <td>3</td>\n",
       "      <td>5:00</td>\n",
       "      <td>3 Rnd (5-5-5)</td>\n",
       "      <td>Kevin Sataki</td>\n",
       "      <td>March 16, 2019</td>\n",
       "      <td>[London,  England,  United Kingdom]</td>\n",
       "      <td>Leon Edwards</td>\n",
       "      <td>Welterweight</td>\n",
       "      <td>False</td>\n",
       "      <td>United Kingdom</td>\n",
       "      <td>2019</td>\n",
       "      <td>NaN</td>\n",
       "    </tr>\n",
       "    <tr>\n",
       "      <th>126</th>\n",
       "      <td>Volkan Oezdemir</td>\n",
       "      <td>Dominick Reyes</td>\n",
       "      <td>Decision - Split</td>\n",
       "      <td>3</td>\n",
       "      <td>5:00</td>\n",
       "      <td>3 Rnd (5-5-5)</td>\n",
       "      <td>Leon Roberts</td>\n",
       "      <td>March 16, 2019</td>\n",
       "      <td>[London,  England,  United Kingdom]</td>\n",
       "      <td>Dominick Reyes</td>\n",
       "      <td>Light Heavyweight</td>\n",
       "      <td>False</td>\n",
       "      <td>United Kingdom</td>\n",
       "      <td>2019</td>\n",
       "      <td>NaN</td>\n",
       "    </tr>\n",
       "    <tr>\n",
       "      <th>127</th>\n",
       "      <td>Nathaniel Wood</td>\n",
       "      <td>Jose Quinonez</td>\n",
       "      <td>Submission</td>\n",
       "      <td>2</td>\n",
       "      <td>2:46</td>\n",
       "      <td>3 Rnd (5-5-5)</td>\n",
       "      <td>Rich Mitchell</td>\n",
       "      <td>March 16, 2019</td>\n",
       "      <td>[London,  England,  United Kingdom]</td>\n",
       "      <td>Nathaniel Wood</td>\n",
       "      <td>Bantamweight</td>\n",
       "      <td>False</td>\n",
       "      <td>United Kingdom</td>\n",
       "      <td>2019</td>\n",
       "      <td>NaN</td>\n",
       "    </tr>\n",
       "    <tr>\n",
       "      <th>128</th>\n",
       "      <td>Danny Roberts</td>\n",
       "      <td>Claudio Silva</td>\n",
       "      <td>Submission</td>\n",
       "      <td>3</td>\n",
       "      <td>2:37</td>\n",
       "      <td>3 Rnd (5-5-5)</td>\n",
       "      <td>Kevin Sataki</td>\n",
       "      <td>March 16, 2019</td>\n",
       "      <td>[London,  England,  United Kingdom]</td>\n",
       "      <td>Claudio Silva</td>\n",
       "      <td>Welterweight</td>\n",
       "      <td>False</td>\n",
       "      <td>United Kingdom</td>\n",
       "      <td>2019</td>\n",
       "      <td>NaN</td>\n",
       "    </tr>\n",
       "  </tbody>\n",
       "</table>\n",
       "</div>"
      ],
      "text/plain": [
       "           R_fighter       B_fighter            win_by  last_round  \\\n",
       "124      Darren Till  Jorge Masvidal            KO/TKO           2   \n",
       "125     Leon Edwards   Gunnar Nelson  Decision - Split           3   \n",
       "126  Volkan Oezdemir  Dominick Reyes  Decision - Split           3   \n",
       "127   Nathaniel Wood   Jose Quinonez        Submission           2   \n",
       "128    Danny Roberts   Claudio Silva        Submission           3   \n",
       "\n",
       "    last_round_time             Format        Referee            date  \\\n",
       "124            3:05  5 Rnd (5-5-5-5-5)   Marc Goddard  March 16, 2019   \n",
       "125            5:00      3 Rnd (5-5-5)   Kevin Sataki  March 16, 2019   \n",
       "126            5:00      3 Rnd (5-5-5)   Leon Roberts  March 16, 2019   \n",
       "127            2:46      3 Rnd (5-5-5)  Rich Mitchell  March 16, 2019   \n",
       "128            2:37      3 Rnd (5-5-5)   Kevin Sataki  March 16, 2019   \n",
       "\n",
       "                                location          Winner       weight_class  \\\n",
       "124  [London,  England,  United Kingdom]  Jorge Masvidal       Welterweight   \n",
       "125  [London,  England,  United Kingdom]    Leon Edwards       Welterweight   \n",
       "126  [London,  England,  United Kingdom]  Dominick Reyes  Light Heavyweight   \n",
       "127  [London,  England,  United Kingdom]  Nathaniel Wood       Bantamweight   \n",
       "128  [London,  England,  United Kingdom]   Claudio Silva       Welterweight   \n",
       "\n",
       "     title_bout          Country   Year              KO  \n",
       "124       False   United Kingdom   2019  Jorge Masvidal  \n",
       "125       False   United Kingdom   2019             NaN  \n",
       "126       False   United Kingdom   2019             NaN  \n",
       "127       False   United Kingdom   2019             NaN  \n",
       "128       False   United Kingdom   2019             NaN  "
      ]
     },
     "execution_count": 150,
     "metadata": {},
     "output_type": "execute_result"
    }
   ],
   "source": [
    "#como ya habiamos creado previamente las columnas año y pais , solo queda ordenar de forma descendente por ellas\n",
    "order_year_country = combates.sort_values(by=['Year','Country'], ascending = False)\n",
    "order_year_country.head(5)"
   ]
  },
  {
   "cell_type": "markdown",
   "metadata": {},
   "source": [
    "## Formato de los combates"
   ]
  },
  {
   "cell_type": "markdown",
   "metadata": {},
   "source": [
    "Averigüa cuáles son los diferentes formatos de combates y el número de combates celebrados para cada formato."
   ]
  },
  {
   "cell_type": "code",
   "execution_count": 151,
   "metadata": {},
   "outputs": [
    {
     "data": {
      "text/plain": [
       "array(['5 Rnd (5-5-5-5-5)', '3 Rnd (5-5-5)', '3 Rnd + OT (5-5-5-5)',\n",
       "       '2 Rnd (5-5)', '1 Rnd + 2OT (15-3-3)', '1 Rnd + OT (12-3)',\n",
       "       '1 Rnd (12)', '1 Rnd + OT (15-3)', '1 Rnd (15)',\n",
       "       '1 Rnd + 2OT (24-3-3)', '1 Rnd (10)', '1 Rnd + OT (27-3)',\n",
       "       '1 Rnd (18)', '1 Rnd + OT (30-5)', '1 Rnd + OT (30-3)',\n",
       "       '1 Rnd (20)', '1 Rnd (30)', '1 Rnd + OT (31-5)', 'No Time Limit'],\n",
       "      dtype=object)"
      ]
     },
     "execution_count": 151,
     "metadata": {},
     "output_type": "execute_result"
    }
   ],
   "source": [
    "tipo_combates=combates.Format.unique()\n",
    "tipo_combates"
   ]
  },
  {
   "cell_type": "code",
   "execution_count": 152,
   "metadata": {},
   "outputs": [
    {
     "data": {
      "text/html": [
       "<div>\n",
       "<style scoped>\n",
       "    .dataframe tbody tr th:only-of-type {\n",
       "        vertical-align: middle;\n",
       "    }\n",
       "\n",
       "    .dataframe tbody tr th {\n",
       "        vertical-align: top;\n",
       "    }\n",
       "\n",
       "    .dataframe thead th {\n",
       "        text-align: right;\n",
       "    }\n",
       "</style>\n",
       "<table border=\"1\" class=\"dataframe\">\n",
       "  <thead>\n",
       "    <tr style=\"text-align: right;\">\n",
       "      <th></th>\n",
       "      <th>R_fighter</th>\n",
       "      <th>B_fighter</th>\n",
       "      <th>win_by</th>\n",
       "      <th>last_round</th>\n",
       "      <th>last_round_time</th>\n",
       "      <th>Format</th>\n",
       "      <th>Referee</th>\n",
       "      <th>date</th>\n",
       "      <th>location</th>\n",
       "      <th>Winner</th>\n",
       "      <th>weight_class</th>\n",
       "      <th>title_bout</th>\n",
       "      <th>Country</th>\n",
       "      <th>Year</th>\n",
       "      <th>KO</th>\n",
       "    </tr>\n",
       "  </thead>\n",
       "  <tbody>\n",
       "    <tr>\n",
       "      <th>0</th>\n",
       "      <td>Henry Cejudo</td>\n",
       "      <td>Marlon Moraes</td>\n",
       "      <td>KO/TKO</td>\n",
       "      <td>3</td>\n",
       "      <td>4:51</td>\n",
       "      <td>5 Rnd (5-5-5-5-5)</td>\n",
       "      <td>Marc Goddard</td>\n",
       "      <td>June 08, 2019</td>\n",
       "      <td>[Chicago,  Illinois,  USA]</td>\n",
       "      <td>Henry Cejudo</td>\n",
       "      <td>Bantamweight</td>\n",
       "      <td>True</td>\n",
       "      <td>USA</td>\n",
       "      <td>2019</td>\n",
       "      <td>Henry Cejudo</td>\n",
       "    </tr>\n",
       "    <tr>\n",
       "      <th>1</th>\n",
       "      <td>Valentina Shevchenko</td>\n",
       "      <td>Jessica Eye</td>\n",
       "      <td>KO/TKO</td>\n",
       "      <td>2</td>\n",
       "      <td>0:26</td>\n",
       "      <td>5 Rnd (5-5-5-5-5)</td>\n",
       "      <td>Robert Madrigal</td>\n",
       "      <td>June 08, 2019</td>\n",
       "      <td>[Chicago,  Illinois,  USA]</td>\n",
       "      <td>Valentina Shevchenko</td>\n",
       "      <td>Women's Flyweight</td>\n",
       "      <td>True</td>\n",
       "      <td>USA</td>\n",
       "      <td>2019</td>\n",
       "      <td>Valentina Shevchenko</td>\n",
       "    </tr>\n",
       "    <tr>\n",
       "      <th>2</th>\n",
       "      <td>Tony Ferguson</td>\n",
       "      <td>Donald Cerrone</td>\n",
       "      <td>TKO - Doctor's Stoppage</td>\n",
       "      <td>2</td>\n",
       "      <td>5:00</td>\n",
       "      <td>3 Rnd (5-5-5)</td>\n",
       "      <td>Dan Miragliotta</td>\n",
       "      <td>June 08, 2019</td>\n",
       "      <td>[Chicago,  Illinois,  USA]</td>\n",
       "      <td>Tony Ferguson</td>\n",
       "      <td>Lightweight</td>\n",
       "      <td>False</td>\n",
       "      <td>USA</td>\n",
       "      <td>2019</td>\n",
       "      <td>NaN</td>\n",
       "    </tr>\n",
       "    <tr>\n",
       "      <th>3</th>\n",
       "      <td>Jimmie Rivera</td>\n",
       "      <td>Petr Yan</td>\n",
       "      <td>Decision - Unanimous</td>\n",
       "      <td>3</td>\n",
       "      <td>5:00</td>\n",
       "      <td>3 Rnd (5-5-5)</td>\n",
       "      <td>Kevin MacDonald</td>\n",
       "      <td>June 08, 2019</td>\n",
       "      <td>[Chicago,  Illinois,  USA]</td>\n",
       "      <td>Petr Yan</td>\n",
       "      <td>Bantamweight</td>\n",
       "      <td>False</td>\n",
       "      <td>USA</td>\n",
       "      <td>2019</td>\n",
       "      <td>NaN</td>\n",
       "    </tr>\n",
       "    <tr>\n",
       "      <th>4</th>\n",
       "      <td>Tai Tuivasa</td>\n",
       "      <td>Blagoy Ivanov</td>\n",
       "      <td>Decision - Unanimous</td>\n",
       "      <td>3</td>\n",
       "      <td>5:00</td>\n",
       "      <td>3 Rnd (5-5-5)</td>\n",
       "      <td>Dan Miragliotta</td>\n",
       "      <td>June 08, 2019</td>\n",
       "      <td>[Chicago,  Illinois,  USA]</td>\n",
       "      <td>Blagoy Ivanov</td>\n",
       "      <td>Heavyweight</td>\n",
       "      <td>False</td>\n",
       "      <td>USA</td>\n",
       "      <td>2019</td>\n",
       "      <td>NaN</td>\n",
       "    </tr>\n",
       "  </tbody>\n",
       "</table>\n",
       "</div>"
      ],
      "text/plain": [
       "              R_fighter       B_fighter                   win_by  last_round  \\\n",
       "0          Henry Cejudo   Marlon Moraes                   KO/TKO           3   \n",
       "1  Valentina Shevchenko     Jessica Eye                   KO/TKO           2   \n",
       "2         Tony Ferguson  Donald Cerrone  TKO - Doctor's Stoppage           2   \n",
       "3         Jimmie Rivera        Petr Yan     Decision - Unanimous           3   \n",
       "4           Tai Tuivasa   Blagoy Ivanov     Decision - Unanimous           3   \n",
       "\n",
       "  last_round_time             Format          Referee           date  \\\n",
       "0            4:51  5 Rnd (5-5-5-5-5)     Marc Goddard  June 08, 2019   \n",
       "1            0:26  5 Rnd (5-5-5-5-5)  Robert Madrigal  June 08, 2019   \n",
       "2            5:00      3 Rnd (5-5-5)  Dan Miragliotta  June 08, 2019   \n",
       "3            5:00      3 Rnd (5-5-5)  Kevin MacDonald  June 08, 2019   \n",
       "4            5:00      3 Rnd (5-5-5)  Dan Miragliotta  June 08, 2019   \n",
       "\n",
       "                     location                Winner       weight_class  \\\n",
       "0  [Chicago,  Illinois,  USA]          Henry Cejudo       Bantamweight   \n",
       "1  [Chicago,  Illinois,  USA]  Valentina Shevchenko  Women's Flyweight   \n",
       "2  [Chicago,  Illinois,  USA]         Tony Ferguson        Lightweight   \n",
       "3  [Chicago,  Illinois,  USA]              Petr Yan       Bantamweight   \n",
       "4  [Chicago,  Illinois,  USA]         Blagoy Ivanov        Heavyweight   \n",
       "\n",
       "   title_bout Country   Year                    KO  \n",
       "0        True     USA   2019          Henry Cejudo  \n",
       "1        True     USA   2019  Valentina Shevchenko  \n",
       "2       False     USA   2019                   NaN  \n",
       "3       False     USA   2019                   NaN  \n",
       "4       False     USA   2019                   NaN  "
      ]
     },
     "execution_count": 152,
     "metadata": {},
     "output_type": "execute_result"
    }
   ],
   "source": [
    "combates.head()\n",
    "#para ver como vamos a agruparlos"
   ]
  },
  {
   "cell_type": "code",
   "execution_count": 153,
   "metadata": {},
   "outputs": [],
   "source": [
    "combates.rename(columns={'Country':'Value_Counts'}, inplace = True)\n",
    "#cambiamos el valor de la columna country por Value_Counts, y de esta manera obtener la pivot como queremos"
   ]
  },
  {
   "cell_type": "code",
   "execution_count": 154,
   "metadata": {},
   "outputs": [
    {
     "data": {
      "text/html": [
       "<div>\n",
       "<style scoped>\n",
       "    .dataframe tbody tr th:only-of-type {\n",
       "        vertical-align: middle;\n",
       "    }\n",
       "\n",
       "    .dataframe tbody tr th {\n",
       "        vertical-align: top;\n",
       "    }\n",
       "\n",
       "    .dataframe thead th {\n",
       "        text-align: right;\n",
       "    }\n",
       "</style>\n",
       "<table border=\"1\" class=\"dataframe\">\n",
       "  <thead>\n",
       "    <tr style=\"text-align: right;\">\n",
       "      <th></th>\n",
       "      <th>Value_Counts</th>\n",
       "    </tr>\n",
       "    <tr>\n",
       "      <th>Format</th>\n",
       "      <th></th>\n",
       "    </tr>\n",
       "  </thead>\n",
       "  <tbody>\n",
       "    <tr>\n",
       "      <th>1 Rnd (10)</th>\n",
       "      <td>6</td>\n",
       "    </tr>\n",
       "    <tr>\n",
       "      <th>1 Rnd (12)</th>\n",
       "      <td>4</td>\n",
       "    </tr>\n",
       "    <tr>\n",
       "      <th>1 Rnd (15)</th>\n",
       "      <td>8</td>\n",
       "    </tr>\n",
       "    <tr>\n",
       "      <th>1 Rnd (18)</th>\n",
       "      <td>2</td>\n",
       "    </tr>\n",
       "    <tr>\n",
       "      <th>1 Rnd (20)</th>\n",
       "      <td>20</td>\n",
       "    </tr>\n",
       "    <tr>\n",
       "      <th>1 Rnd (30)</th>\n",
       "      <td>1</td>\n",
       "    </tr>\n",
       "    <tr>\n",
       "      <th>1 Rnd + 2OT (15-3-3)</th>\n",
       "      <td>20</td>\n",
       "    </tr>\n",
       "    <tr>\n",
       "      <th>1 Rnd + 2OT (24-3-3)</th>\n",
       "      <td>1</td>\n",
       "    </tr>\n",
       "    <tr>\n",
       "      <th>1 Rnd + OT (12-3)</th>\n",
       "      <td>79</td>\n",
       "    </tr>\n",
       "    <tr>\n",
       "      <th>1 Rnd + OT (15-3)</th>\n",
       "      <td>2</td>\n",
       "    </tr>\n",
       "    <tr>\n",
       "      <th>1 Rnd + OT (27-3)</th>\n",
       "      <td>1</td>\n",
       "    </tr>\n",
       "    <tr>\n",
       "      <th>1 Rnd + OT (30-3)</th>\n",
       "      <td>1</td>\n",
       "    </tr>\n",
       "    <tr>\n",
       "      <th>1 Rnd + OT (30-5)</th>\n",
       "      <td>3</td>\n",
       "    </tr>\n",
       "    <tr>\n",
       "      <th>1 Rnd + OT (31-5)</th>\n",
       "      <td>1</td>\n",
       "    </tr>\n",
       "    <tr>\n",
       "      <th>2 Rnd (5-5)</th>\n",
       "      <td>11</td>\n",
       "    </tr>\n",
       "    <tr>\n",
       "      <th>3 Rnd (5-5-5)</th>\n",
       "      <td>4502</td>\n",
       "    </tr>\n",
       "    <tr>\n",
       "      <th>3 Rnd + OT (5-5-5-5)</th>\n",
       "      <td>22</td>\n",
       "    </tr>\n",
       "    <tr>\n",
       "      <th>5 Rnd (5-5-5-5-5)</th>\n",
       "      <td>423</td>\n",
       "    </tr>\n",
       "    <tr>\n",
       "      <th>No Time Limit</th>\n",
       "      <td>37</td>\n",
       "    </tr>\n",
       "    <tr>\n",
       "      <th>All</th>\n",
       "      <td>5144</td>\n",
       "    </tr>\n",
       "  </tbody>\n",
       "</table>\n",
       "</div>"
      ],
      "text/plain": [
       "                      Value_Counts\n",
       "Format                            \n",
       "1 Rnd (10)                       6\n",
       "1 Rnd (12)                       4\n",
       "1 Rnd (15)                       8\n",
       "1 Rnd (18)                       2\n",
       "1 Rnd (20)                      20\n",
       "1 Rnd (30)                       1\n",
       "1 Rnd + 2OT (15-3-3)            20\n",
       "1 Rnd + 2OT (24-3-3)             1\n",
       "1 Rnd + OT (12-3)               79\n",
       "1 Rnd + OT (15-3)                2\n",
       "1 Rnd + OT (27-3)                1\n",
       "1 Rnd + OT (30-3)                1\n",
       "1 Rnd + OT (30-5)                3\n",
       "1 Rnd + OT (31-5)                1\n",
       "2 Rnd (5-5)                     11\n",
       "3 Rnd (5-5-5)                 4502\n",
       "3 Rnd + OT (5-5-5-5)            22\n",
       "5 Rnd (5-5-5-5-5)              423\n",
       "No Time Limit                   37\n",
       "All                           5144"
      ]
     },
     "execution_count": 154,
     "metadata": {},
     "output_type": "execute_result"
    }
   ],
   "source": [
    "pivot = combates.pivot_table(index=['Format'], \n",
    "                     values=['Value_Counts'],\n",
    "                     aggfunc='count',\n",
    "                     margins=True)\n",
    "pivot #pivot table que agrupa por tipo de combate y numero de combates que ha habido en cada uno de los tipos"
   ]
  },
  {
   "cell_type": "code",
   "execution_count": 155,
   "metadata": {},
   "outputs": [
    {
     "data": {
      "text/html": [
       "<div>\n",
       "<style scoped>\n",
       "    .dataframe tbody tr th:only-of-type {\n",
       "        vertical-align: middle;\n",
       "    }\n",
       "\n",
       "    .dataframe tbody tr th {\n",
       "        vertical-align: top;\n",
       "    }\n",
       "\n",
       "    .dataframe thead th {\n",
       "        text-align: right;\n",
       "    }\n",
       "</style>\n",
       "<table border=\"1\" class=\"dataframe\">\n",
       "  <thead>\n",
       "    <tr style=\"text-align: right;\">\n",
       "      <th></th>\n",
       "      <th>R_fighter</th>\n",
       "      <th>B_fighter</th>\n",
       "      <th>win_by</th>\n",
       "      <th>last_round</th>\n",
       "      <th>last_round_time</th>\n",
       "      <th>Format</th>\n",
       "      <th>Referee</th>\n",
       "      <th>date</th>\n",
       "      <th>location</th>\n",
       "      <th>Winner</th>\n",
       "      <th>weight_class</th>\n",
       "      <th>title_bout</th>\n",
       "      <th>Country</th>\n",
       "      <th>Year</th>\n",
       "      <th>KO</th>\n",
       "    </tr>\n",
       "  </thead>\n",
       "  <tbody>\n",
       "    <tr>\n",
       "      <th>0</th>\n",
       "      <td>Henry Cejudo</td>\n",
       "      <td>Marlon Moraes</td>\n",
       "      <td>KO/TKO</td>\n",
       "      <td>3</td>\n",
       "      <td>4:51</td>\n",
       "      <td>5 Rnd (5-5-5-5-5)</td>\n",
       "      <td>Marc Goddard</td>\n",
       "      <td>June 08, 2019</td>\n",
       "      <td>[Chicago,  Illinois,  USA]</td>\n",
       "      <td>Henry Cejudo</td>\n",
       "      <td>Bantamweight</td>\n",
       "      <td>True</td>\n",
       "      <td>USA</td>\n",
       "      <td>2019</td>\n",
       "      <td>Henry Cejudo</td>\n",
       "    </tr>\n",
       "    <tr>\n",
       "      <th>1</th>\n",
       "      <td>Valentina Shevchenko</td>\n",
       "      <td>Jessica Eye</td>\n",
       "      <td>KO/TKO</td>\n",
       "      <td>2</td>\n",
       "      <td>0:26</td>\n",
       "      <td>5 Rnd (5-5-5-5-5)</td>\n",
       "      <td>Robert Madrigal</td>\n",
       "      <td>June 08, 2019</td>\n",
       "      <td>[Chicago,  Illinois,  USA]</td>\n",
       "      <td>Valentina Shevchenko</td>\n",
       "      <td>Women's Flyweight</td>\n",
       "      <td>True</td>\n",
       "      <td>USA</td>\n",
       "      <td>2019</td>\n",
       "      <td>Valentina Shevchenko</td>\n",
       "    </tr>\n",
       "  </tbody>\n",
       "</table>\n",
       "</div>"
      ],
      "text/plain": [
       "              R_fighter      B_fighter  win_by  last_round last_round_time  \\\n",
       "0          Henry Cejudo  Marlon Moraes  KO/TKO           3            4:51   \n",
       "1  Valentina Shevchenko    Jessica Eye  KO/TKO           2            0:26   \n",
       "\n",
       "              Format          Referee           date  \\\n",
       "0  5 Rnd (5-5-5-5-5)     Marc Goddard  June 08, 2019   \n",
       "1  5 Rnd (5-5-5-5-5)  Robert Madrigal  June 08, 2019   \n",
       "\n",
       "                     location                Winner       weight_class  \\\n",
       "0  [Chicago,  Illinois,  USA]          Henry Cejudo       Bantamweight   \n",
       "1  [Chicago,  Illinois,  USA]  Valentina Shevchenko  Women's Flyweight   \n",
       "\n",
       "   title_bout Country   Year                    KO  \n",
       "0        True     USA   2019          Henry Cejudo  \n",
       "1        True     USA   2019  Valentina Shevchenko  "
      ]
     },
     "execution_count": 155,
     "metadata": {},
     "output_type": "execute_result"
    }
   ],
   "source": [
    "#volvemos a poner el nombre original a Country para evitar confusiones futuras en caso de hacer mas consultas\n",
    "combates.rename(columns={'Value_Counts':'Country'}, inplace = True)\n",
    "combates.head(2)#vemos que se aplica correctamente"
   ]
  }
 ],
 "metadata": {
  "kernelspec": {
   "display_name": "Python 3",
   "language": "python",
   "name": "python3"
  },
  "language_info": {
   "codemirror_mode": {
    "name": "ipython",
    "version": 3
   },
   "file_extension": ".py",
   "mimetype": "text/x-python",
   "name": "python",
   "nbconvert_exporter": "python",
   "pygments_lexer": "ipython3",
   "version": "3.8.3"
  }
 },
 "nbformat": 4,
 "nbformat_minor": 4
}
